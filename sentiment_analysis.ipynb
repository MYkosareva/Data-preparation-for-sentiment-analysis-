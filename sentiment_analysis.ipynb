{
  "nbformat": 4,
  "nbformat_minor": 0,
  "metadata": {
    "colab": {
      "provenance": [],
      "authorship_tag": "ABX9TyO5sE3yqxUCzic+PPHyEcXU"
    },
    "kernelspec": {
      "name": "python3",
      "display_name": "Python 3"
    },
    "language_info": {
      "name": "python"
    }
  },
  "cells": [
    {
      "cell_type": "code",
      "execution_count": 1,
      "metadata": {
        "id": "zb_0b8l5_mjj"
      },
      "outputs": [],
      "source": [
        "# установим библиотеку для анализа тональности русского языка (https://pypi.org/project/dostoevsky/)\n",
        "# install the library for sentiment analysis of the Russian language\n",
        "#!pip install dostoevsky"
      ]
    },
    {
      "cell_type": "code",
      "source": [
        "# загрузим предобученную модель\n",
        "# download pretrained model\n",
        "#!python -m dostoevsky download fasttext-social-network-model"
      ],
      "metadata": {
        "id": "q_E3o0tr_qpA"
      },
      "execution_count": 2,
      "outputs": []
    },
    {
      "cell_type": "code",
      "source": [
        "# data preprocessing\n",
        "import pandas as pd\n",
        "import re\n",
        "\n",
        "# Sentiment analysis\n",
        "from dostoevsky.tokenization import RegexTokenizer\n",
        "from dostoevsky.models import FastTextSocialNetworkModel"
      ],
      "metadata": {
        "id": "sG1qwCiA_qrG"
      },
      "execution_count": 3,
      "outputs": []
    },
    {
      "cell_type": "markdown",
      "source": [
        "## 1. Загрузка и предобработка данных. \n",
        "## 1. Load and preprocessing data"
      ],
      "metadata": {
        "id": "CuUjl0TbE4Lw"
      }
    },
    {
      "cell_type": "code",
      "source": [
        "file = open('/content/test_margaryta.txt','r',encoding='utf-8')\n",
        "text = file.readlines()"
      ],
      "metadata": {
        "id": "W48cZoDwEIRv"
      },
      "execution_count": 4,
      "outputs": []
    },
    {
      "cell_type": "code",
      "source": [
        "print(len(text))\n",
        "print(type(text))"
      ],
      "metadata": {
        "colab": {
          "base_uri": "https://localhost:8080/"
        },
        "id": "UagBMGF6EIT1",
        "outputId": "5534e775-24d6-4d12-ca2b-2ae1ea8a6439"
      },
      "execution_count": 5,
      "outputs": [
        {
          "output_type": "stream",
          "name": "stdout",
          "text": [
            "8\n",
            "<class 'list'>\n"
          ]
        }
      ]
    },
    {
      "cell_type": "code",
      "source": [
        "text[0]"
      ],
      "metadata": {
        "colab": {
          "base_uri": "https://localhost:8080/",
          "height": 87
        },
        "id": "oAGDeOxREIWa",
        "outputId": "9b85a81f-fd1e-43d1-f2eb-d239bb8ff185"
      },
      "execution_count": 6,
      "outputs": [
        {
          "output_type": "execute_result",
          "data": {
            "text/plain": [
              "\"{'url': 'news/2020/05/11/prodazhi-avtovaza-v-aprele-snizilis-v-tri-raza-po-sravneniyu-s-proshlym-godom', 'title': 'Продажи «АвтоВАЗа» в апреле снизились в три раза по сравнению с прошлым годом', 'article': ['«АвтоВАЗ» в\\\\xa0апреле продал в\\\\xa0общей сложности 10055\\\\xa0автомобилей, сообщила пресс-служба автоконцерна. Самой популярной была Granta с\\\\xa0результатом 3058 автомобилей, на\\\\xa0втором месте Vesta\\\\xa0— 2913 проданных автомобилей, на\\\\xa0третьем\\\\xa0— Largus\\\\xa0— 1286 автомобилей.', 'По\\\\xa0сравнению с\\\\xa0апрелем 2019 года, сообщает ТАСС, продажи «АвтоВАЗа» упали более чем в\\\\xa03 раза. В\\\\xa0прошлом году автоконцерн продал в\\\\xa0апреле\\\\xa032,3 тысячи автомобилей.']},\\n\""
            ],
            "application/vnd.google.colaboratory.intrinsic+json": {
              "type": "string"
            }
          },
          "metadata": {},
          "execution_count": 6
        }
      ]
    },
    {
      "cell_type": "code",
      "source": [
        "# Переходим от формата str к dict\n",
        "\n",
        "d = [eval(string[:-2]) for string in text]"
      ],
      "metadata": {
        "id": "G8e4E5bWEIYh"
      },
      "execution_count": 7,
      "outputs": []
    },
    {
      "cell_type": "code",
      "source": [
        "#  Save to dataframe\n",
        "data = pd.DataFrame.from_dict(d)\n",
        "data.head(3)"
      ],
      "metadata": {
        "colab": {
          "base_uri": "https://localhost:8080/",
          "height": 143
        },
        "id": "Fv8pV_GTEcPN",
        "outputId": "524d2622-449d-4a90-e2ee-1f0c2e0eafb2"
      },
      "execution_count": 8,
      "outputs": [
        {
          "output_type": "execute_result",
          "data": {
            "text/plain": [
              "                                                 url  \\\n",
              "0  news/2020/05/11/prodazhi-avtovaza-v-aprele-sni...   \n",
              "1  news/2020/05/11/vms-irana-vo-vremya-ucheniy-sl...   \n",
              "2  news/2020/05/11/rossiya-vyshla-na-tretie-mesto...   \n",
              "\n",
              "                                               title  \\\n",
              "0  Продажи «АвтоВАЗа» в апреле снизились в три ра...   \n",
              "1  ВМС Ирана во время учений случайно выпустили р...   \n",
              "2  Россия вышла на третье место в мире по уровню ...   \n",
              "\n",
              "                                             article  \n",
              "0  [«АвтоВАЗ» в апреле продал в общей сложности 1...  \n",
              "1  [Противокорабельная ракета, запущенная во врем...  \n",
              "2  [В России за сутки коронавирусную инфекцию выя...  "
            ],
            "text/html": [
              "\n",
              "  <div id=\"df-9ccc0f51-e3ab-496e-ad6c-bba48998b9b2\">\n",
              "    <div class=\"colab-df-container\">\n",
              "      <div>\n",
              "<style scoped>\n",
              "    .dataframe tbody tr th:only-of-type {\n",
              "        vertical-align: middle;\n",
              "    }\n",
              "\n",
              "    .dataframe tbody tr th {\n",
              "        vertical-align: top;\n",
              "    }\n",
              "\n",
              "    .dataframe thead th {\n",
              "        text-align: right;\n",
              "    }\n",
              "</style>\n",
              "<table border=\"1\" class=\"dataframe\">\n",
              "  <thead>\n",
              "    <tr style=\"text-align: right;\">\n",
              "      <th></th>\n",
              "      <th>url</th>\n",
              "      <th>title</th>\n",
              "      <th>article</th>\n",
              "    </tr>\n",
              "  </thead>\n",
              "  <tbody>\n",
              "    <tr>\n",
              "      <th>0</th>\n",
              "      <td>news/2020/05/11/prodazhi-avtovaza-v-aprele-sni...</td>\n",
              "      <td>Продажи «АвтоВАЗа» в апреле снизились в три ра...</td>\n",
              "      <td>[«АвтоВАЗ» в апреле продал в общей сложности 1...</td>\n",
              "    </tr>\n",
              "    <tr>\n",
              "      <th>1</th>\n",
              "      <td>news/2020/05/11/vms-irana-vo-vremya-ucheniy-sl...</td>\n",
              "      <td>ВМС Ирана во время учений случайно выпустили р...</td>\n",
              "      <td>[Противокорабельная ракета, запущенная во врем...</td>\n",
              "    </tr>\n",
              "    <tr>\n",
              "      <th>2</th>\n",
              "      <td>news/2020/05/11/rossiya-vyshla-na-tretie-mesto...</td>\n",
              "      <td>Россия вышла на третье место в мире по уровню ...</td>\n",
              "      <td>[В России за сутки коронавирусную инфекцию выя...</td>\n",
              "    </tr>\n",
              "  </tbody>\n",
              "</table>\n",
              "</div>\n",
              "      <button class=\"colab-df-convert\" onclick=\"convertToInteractive('df-9ccc0f51-e3ab-496e-ad6c-bba48998b9b2')\"\n",
              "              title=\"Convert this dataframe to an interactive table.\"\n",
              "              style=\"display:none;\">\n",
              "        \n",
              "  <svg xmlns=\"http://www.w3.org/2000/svg\" height=\"24px\"viewBox=\"0 0 24 24\"\n",
              "       width=\"24px\">\n",
              "    <path d=\"M0 0h24v24H0V0z\" fill=\"none\"/>\n",
              "    <path d=\"M18.56 5.44l.94 2.06.94-2.06 2.06-.94-2.06-.94-.94-2.06-.94 2.06-2.06.94zm-11 1L8.5 8.5l.94-2.06 2.06-.94-2.06-.94L8.5 2.5l-.94 2.06-2.06.94zm10 10l.94 2.06.94-2.06 2.06-.94-2.06-.94-.94-2.06-.94 2.06-2.06.94z\"/><path d=\"M17.41 7.96l-1.37-1.37c-.4-.4-.92-.59-1.43-.59-.52 0-1.04.2-1.43.59L10.3 9.45l-7.72 7.72c-.78.78-.78 2.05 0 2.83L4 21.41c.39.39.9.59 1.41.59.51 0 1.02-.2 1.41-.59l7.78-7.78 2.81-2.81c.8-.78.8-2.07 0-2.86zM5.41 20L4 18.59l7.72-7.72 1.47 1.35L5.41 20z\"/>\n",
              "  </svg>\n",
              "      </button>\n",
              "      \n",
              "  <style>\n",
              "    .colab-df-container {\n",
              "      display:flex;\n",
              "      flex-wrap:wrap;\n",
              "      gap: 12px;\n",
              "    }\n",
              "\n",
              "    .colab-df-convert {\n",
              "      background-color: #E8F0FE;\n",
              "      border: none;\n",
              "      border-radius: 50%;\n",
              "      cursor: pointer;\n",
              "      display: none;\n",
              "      fill: #1967D2;\n",
              "      height: 32px;\n",
              "      padding: 0 0 0 0;\n",
              "      width: 32px;\n",
              "    }\n",
              "\n",
              "    .colab-df-convert:hover {\n",
              "      background-color: #E2EBFA;\n",
              "      box-shadow: 0px 1px 2px rgba(60, 64, 67, 0.3), 0px 1px 3px 1px rgba(60, 64, 67, 0.15);\n",
              "      fill: #174EA6;\n",
              "    }\n",
              "\n",
              "    [theme=dark] .colab-df-convert {\n",
              "      background-color: #3B4455;\n",
              "      fill: #D2E3FC;\n",
              "    }\n",
              "\n",
              "    [theme=dark] .colab-df-convert:hover {\n",
              "      background-color: #434B5C;\n",
              "      box-shadow: 0px 1px 3px 1px rgba(0, 0, 0, 0.15);\n",
              "      filter: drop-shadow(0px 1px 2px rgba(0, 0, 0, 0.3));\n",
              "      fill: #FFFFFF;\n",
              "    }\n",
              "  </style>\n",
              "\n",
              "      <script>\n",
              "        const buttonEl =\n",
              "          document.querySelector('#df-9ccc0f51-e3ab-496e-ad6c-bba48998b9b2 button.colab-df-convert');\n",
              "        buttonEl.style.display =\n",
              "          google.colab.kernel.accessAllowed ? 'block' : 'none';\n",
              "\n",
              "        async function convertToInteractive(key) {\n",
              "          const element = document.querySelector('#df-9ccc0f51-e3ab-496e-ad6c-bba48998b9b2');\n",
              "          const dataTable =\n",
              "            await google.colab.kernel.invokeFunction('convertToInteractive',\n",
              "                                                     [key], {});\n",
              "          if (!dataTable) return;\n",
              "\n",
              "          const docLinkHtml = 'Like what you see? Visit the ' +\n",
              "            '<a target=\"_blank\" href=https://colab.research.google.com/notebooks/data_table.ipynb>data table notebook</a>'\n",
              "            + ' to learn more about interactive tables.';\n",
              "          element.innerHTML = '';\n",
              "          dataTable['output_type'] = 'display_data';\n",
              "          await google.colab.output.renderOutput(dataTable, element);\n",
              "          const docLink = document.createElement('div');\n",
              "          docLink.innerHTML = docLinkHtml;\n",
              "          element.appendChild(docLink);\n",
              "        }\n",
              "      </script>\n",
              "    </div>\n",
              "  </div>\n",
              "  "
            ]
          },
          "metadata": {},
          "execution_count": 8
        }
      ]
    },
    {
      "cell_type": "code",
      "source": [
        "data.article[0]"
      ],
      "metadata": {
        "colab": {
          "base_uri": "https://localhost:8080/"
        },
        "id": "sHzdlewzEcRL",
        "outputId": "eaa483f8-de10-4705-ade9-bd52c2e7d3f0"
      },
      "execution_count": 9,
      "outputs": [
        {
          "output_type": "execute_result",
          "data": {
            "text/plain": [
              "['«АвтоВАЗ» в\\xa0апреле продал в\\xa0общей сложности 10055\\xa0автомобилей, сообщила пресс-служба автоконцерна. Самой популярной была Granta с\\xa0результатом 3058 автомобилей, на\\xa0втором месте Vesta\\xa0— 2913 проданных автомобилей, на\\xa0третьем\\xa0— Largus\\xa0— 1286 автомобилей.',\n",
              " 'По\\xa0сравнению с\\xa0апрелем 2019 года, сообщает ТАСС, продажи «АвтоВАЗа» упали более чем в\\xa03 раза. В\\xa0прошлом году автоконцерн продал в\\xa0апреле\\xa032,3 тысячи автомобилей.']"
            ]
          },
          "metadata": {},
          "execution_count": 9
        }
      ]
    },
    {
      "cell_type": "code",
      "source": [
        "# функция по очистке html тегов\n",
        "# function for cleaning html tags\n",
        "\n",
        "def remove_html_tags(str_line):\n",
        "    tmp = str_line.replace(u'\\xa0', u' ')\n",
        "    return re.sub('<[^<]+?>', '', tmp)"
      ],
      "metadata": {
        "id": "kMilfwggEcTN"
      },
      "execution_count": 10,
      "outputs": []
    },
    {
      "cell_type": "code",
      "source": [
        "# почистим данные от html тегов и объединим в 1 строку\n",
        "# update our data by cleaning and joining article texts\n",
        "\n",
        "data.article = list(map(lambda x: remove_html_tags(str.join(',\\n', x)), data.article))"
      ],
      "metadata": {
        "id": "P9O1tKNSEcVF"
      },
      "execution_count": 11,
      "outputs": []
    },
    {
      "cell_type": "code",
      "source": [
        "data.article[2]"
      ],
      "metadata": {
        "colab": {
          "base_uri": "https://localhost:8080/",
          "height": 122
        },
        "id": "T6rxDbxwEcW-",
        "outputId": "b797fbc5-156f-4819-d575-9006d90de247"
      },
      "execution_count": 12,
      "outputs": [
        {
          "output_type": "execute_result",
          "data": {
            "text/plain": [
              "'В России за сутки коронавирусную инфекцию выявили у 11656 человек, сообщает оперативный штаб по борьбе с распространением COVID-19.,\\nОбщее число зарегистрированных случаев в России достигло 221344. По этому показателю Россия вышла на третье место, обойдя Италию и Великобританию.,\\nБольше всего новых случаев коронавируса выявили в Москве (+6169 человек), Подмосковье (+1079), Санкт-Петербурге (+307), Нижегородской области (+291), Смоленской области (+164) и Дагестане (+119). В Москве число выявленных случаев заболевания достигло 115909.,\\nЗа сутки зарегистрировали 94 смерти от коронавируса. Всего с начала эпидемии, по официальным данным, умерли 2009 человек, у которых диагностировали заболевание.,\\nС начала распространения COVID-19 в России выздоровели 39801 человек (+5495 за сутки). В Москве за сутки выздоровели 4032 человека, за все время — 17822 человека.,\\nЗа прошедшие сутки, сообщает «Интерфакс» со ссылкой на Роспотребнадзор, в России было выполнено около 188 тысяч тестов на коронавирус. Всего с начала распространения COVID-19 в России сделано 5,6 миллиона тестов.'"
            ],
            "application/vnd.google.colaboratory.intrinsic+json": {
              "type": "string"
            }
          },
          "metadata": {},
          "execution_count": 12
        }
      ]
    },
    {
      "cell_type": "markdown",
      "source": [
        "В тексте статей остался символ переноса строки'\\n'. Давайте уберем его\n",
        "\n",
        "There are '\\n' in the text. Let's remove it."
      ],
      "metadata": {
        "id": "1Z4rI1T6EqlX"
      }
    },
    {
      "cell_type": "code",
      "source": [
        "data.article = data.article.str.replace(u'\\n', u' ')"
      ],
      "metadata": {
        "id": "Ld9ZtbSbEcYn"
      },
      "execution_count": 13,
      "outputs": []
    },
    {
      "cell_type": "code",
      "source": [
        "data.article[2]"
      ],
      "metadata": {
        "colab": {
          "base_uri": "https://localhost:8080/",
          "height": 122
        },
        "id": "FfU-jVY1EcbZ",
        "outputId": "b4eb87c6-960f-4427-eb9f-23b8cd4fdd2c"
      },
      "execution_count": 14,
      "outputs": [
        {
          "output_type": "execute_result",
          "data": {
            "text/plain": [
              "'В России за сутки коронавирусную инфекцию выявили у 11656 человек, сообщает оперативный штаб по борьбе с распространением COVID-19., Общее число зарегистрированных случаев в России достигло 221344. По этому показателю Россия вышла на третье место, обойдя Италию и Великобританию., Больше всего новых случаев коронавируса выявили в Москве (+6169 человек), Подмосковье (+1079), Санкт-Петербурге (+307), Нижегородской области (+291), Смоленской области (+164) и Дагестане (+119). В Москве число выявленных случаев заболевания достигло 115909., За сутки зарегистрировали 94 смерти от коронавируса. Всего с начала эпидемии, по официальным данным, умерли 2009 человек, у которых диагностировали заболевание., С начала распространения COVID-19 в России выздоровели 39801 человек (+5495 за сутки). В Москве за сутки выздоровели 4032 человека, за все время — 17822 человека., За прошедшие сутки, сообщает «Интерфакс» со ссылкой на Роспотребнадзор, в России было выполнено около 188 тысяч тестов на коронавирус. Всего с начала распространения COVID-19 в России сделано 5,6 миллиона тестов.'"
            ],
            "application/vnd.google.colaboratory.intrinsic+json": {
              "type": "string"
            }
          },
          "metadata": {},
          "execution_count": 14
        }
      ]
    },
    {
      "cell_type": "markdown",
      "source": [
        "## 2. Анализ тональности\n",
        "## 2. Sentiment analysis"
      ],
      "metadata": {
        "id": "k2bRoX6rFMiR"
      }
    },
    {
      "cell_type": "code",
      "source": [
        "tokenizer = RegexTokenizer()"
      ],
      "metadata": {
        "id": "Ldb6gwiqCJzN"
      },
      "execution_count": 15,
      "outputs": []
    },
    {
      "cell_type": "code",
      "source": [
        "model = FastTextSocialNetworkModel(tokenizer=tokenizer)"
      ],
      "metadata": {
        "colab": {
          "base_uri": "https://localhost:8080/"
        },
        "id": "jC8hQSJQCBKr",
        "outputId": "4d4b10ce-59af-4ffa-cadf-8783a50f6c9e"
      },
      "execution_count": 16,
      "outputs": [
        {
          "output_type": "stream",
          "name": "stderr",
          "text": [
            "Warning : `load_model` does not return WordVectorModel or SupervisedModel any more, but a `FastText` object which is very similar.\n"
          ]
        }
      ]
    },
    {
      "cell_type": "code",
      "source": [
        "results = model.predict(data.article, k=2) "
      ],
      "metadata": {
        "id": "rVs2GPZmFfkF"
      },
      "execution_count": 17,
      "outputs": []
    },
    {
      "cell_type": "code",
      "source": [
        "results"
      ],
      "metadata": {
        "id": "1p8WfdkzFuXz",
        "outputId": "e8f1972c-8a99-4e73-ab33-0cc5e71be079",
        "colab": {
          "base_uri": "https://localhost:8080/"
        }
      },
      "execution_count": 18,
      "outputs": [
        {
          "output_type": "execute_result",
          "data": {
            "text/plain": [
              "[{'neutral': 0.9284188151359558, 'negative': 0.11280541121959686},\n",
              " {'neutral': 0.7606606483459473, 'negative': 0.20182321965694427},\n",
              " {'neutral': 0.6513648629188538, 'negative': 0.23935934901237488},\n",
              " {'neutral': 0.6654205918312073, 'negative': 0.23371636867523193},\n",
              " {'neutral': 0.7371681928634644, 'negative': 0.24509501457214355},\n",
              " {'neutral': 0.7879412174224854, 'negative': 0.13661839067935944},\n",
              " {'neutral': 0.6370407938957214, 'negative': 0.20182321965694427},\n",
              " {'neutral': 0.6297846436500549, 'negative': 0.18714269995689392}]"
            ]
          },
          "metadata": {},
          "execution_count": 18
        }
      ]
    },
    {
      "cell_type": "markdown",
      "source": [
        "У нас нет ни одной положительной оценки для статей, только нейтральная и негативная. Вероятнее всего подобный перекос в сторону \"нейтральности\" текстов связан с их относительно большим объемом.\n",
        "\n",
        "Давайте определим эмоциональную оценку текста для заголовков (они меньше размром и  вних стараются отразить суть статьи).\n",
        "\n",
        "\n",
        "---\n",
        "\n",
        "We do not have a single positive rating for articles, only neutral and negative. Most likely, the appearance of a bias on the side of the \"neutrality\" of the texts, associated with their relatively large volume.\n",
        "\n",
        "Let's define the emotional value of the text for the headlines (they are smaller in size and they try to reflect the essence of the article)."
      ],
      "metadata": {
        "id": "m1pJGWz3m7mF"
      }
    },
    {
      "cell_type": "code",
      "source": [
        "results_title = model.predict(data.title, k=2) "
      ],
      "metadata": {
        "id": "DCD2dotwmlSZ"
      },
      "execution_count": 19,
      "outputs": []
    },
    {
      "cell_type": "code",
      "source": [
        "results_title"
      ],
      "metadata": {
        "colab": {
          "base_uri": "https://localhost:8080/"
        },
        "id": "LaLYCFZzmlUh",
        "outputId": "7a1d74f6-3b29-48f9-e84a-5aaba9da311b"
      },
      "execution_count": 20,
      "outputs": [
        {
          "output_type": "execute_result",
          "data": {
            "text/plain": [
              "[{'neutral': 0.812877357006073, 'negative': 0.275139719247818},\n",
              " {'neutral': 0.4921981394290924, 'negative': 0.1968362182378769},\n",
              " {'neutral': 0.6001983880996704, 'negative': 0.2814156115055084},\n",
              " {'neutral': 0.9399233460426331, 'skip': 0.06755668669939041},\n",
              " {'neutral': 0.7981967926025391, 'negative': 0.11921291798353195},\n",
              " {'neutral': 0.275139719247818, 'negative': 0.15611489117145538},\n",
              " {'neutral': 0.8354935646057129, 'negative': 0.33459946513175964},\n",
              " {'neutral': 0.3276783227920532, 'positive': 0.07370626926422119}]"
            ]
          },
          "metadata": {},
          "execution_count": 20
        }
      ]
    },
    {
      "cell_type": "code",
      "source": [
        "for message, sentiment in zip(data.title, results_title):\n",
        "  print(message, '->', sentiment, '\\n')"
      ],
      "metadata": {
        "colab": {
          "base_uri": "https://localhost:8080/"
        },
        "id": "EKHBk9tamlW5",
        "outputId": "016a860f-4137-4690-8dd5-8a45ffeafa67"
      },
      "execution_count": 21,
      "outputs": [
        {
          "output_type": "stream",
          "name": "stdout",
          "text": [
            "Продажи «АвтоВАЗа» в апреле снизились в три раза по сравнению с прошлым годом -> {'neutral': 0.812877357006073, 'negative': 0.275139719247818} \n",
            "\n",
            "ВМС Ирана во время учений случайно выпустили ракету по своему кораблю. Погибли 19 человек -> {'neutral': 0.4921981394290924, 'negative': 0.1968362182378769} \n",
            "\n",
            "Россия вышла на третье место в мире по уровню распространения COVID-19. С момента начала эпидемии умерли более 2000 человек -> {'neutral': 0.6001983880996704, 'negative': 0.2814156115055084} \n",
            "\n",
            "В МВД назвали регионы, лидирующие по числу нарушений режима изоляции -> {'neutral': 0.9399233460426331, 'skip': 0.06755668669939041} \n",
            "\n",
            "И.о. главы Россотрудничества в Чехии заподозрили в доставке рицина в Прагу -> {'neutral': 0.7981967926025391, 'negative': 0.11921291798353195} \n",
            "\n",
            "Смертность в Москве в апреле достигла пика за десятилетие -> {'neutral': 0.275139719247818, 'negative': 0.15611489117145538} \n",
            "\n",
            "Всех постарался придушить -> {'neutral': 0.8354935646057129, 'negative': 0.33459946513175964} \n",
            "\n",
            "В Красногорске при пожаре в хосписе погибли девять человек -> {'neutral': 0.3276783227920532, 'positive': 0.07370626926422119} \n",
            "\n"
          ]
        }
      ]
    },
    {
      "cell_type": "markdown",
      "source": [
        "* В 4-м заголовке появилась новоая оценка \"skip\", что означает то, что нейронная сеть не смогла разобрать эту фразу и скорее всего там отсутствует эмоциональный контекст.\n",
        "\n",
        "* В последнем заголовке текст был оценен как \"нейтральный\" в 0.32 балла, и как \"позитивный\" в 0.07 баллов, хотя явно максимальная оценка должна быть у класса  \"негативный\" так как в заголовке фигурируют такие понятия как \"пожар\" и \"погибли 9 человек\". \n",
        "\n",
        "* Данная библиотека плохо работает с данным датасетом, необходимо попробовать другие методы и подходы.\n",
        "\n",
        "\n",
        "\n",
        "---\n",
        "\n",
        "* In the 4th heading, a new score \"skip\" appeared, which means that the neural network could not parse this phrase and most likely there is no emotional context there.\n",
        "\n",
        "* In the last heading, the text was rated as \"neutral\" at 0.32 points, and as \"positive\" at 0.07 points, although the class \"negative\" should clearly have the maximum rating, since the heading includes such concepts as \"fire\" and \"9 people died \".\n",
        "\n",
        "* This library does not work well with this dataset, you need to try other methods and approaches.\n"
      ],
      "metadata": {
        "id": "Ij1n2CzsrQog"
      }
    }
  ]
}