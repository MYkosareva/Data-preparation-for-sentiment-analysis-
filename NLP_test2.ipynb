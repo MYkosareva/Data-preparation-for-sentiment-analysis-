{
 "cells": [
  {
   "cell_type": "code",
   "execution_count": 126,
   "metadata": {},
   "outputs": [],
   "source": [
    "import re\n",
    "import nltk\n",
    "from nltk.corpus import stopwords\n",
    "from pymystem3 import Mystem\n",
    "import pandas as pd\n",
    "from sklearn.feature_extraction.text import TfidfVectorizer"
   ]
  },
  {
   "cell_type": "code",
   "execution_count": 141,
   "metadata": {},
   "outputs": [],
   "source": [
    "file = open('C:\\\\Users\\\\Margarita\\\\Desktop\\\\test_margaryta.txt','r',encoding='utf-8')\n",
    "text = file.readlines()\n",
    "#text"
   ]
  },
  {
   "cell_type": "code",
   "execution_count": 142,
   "metadata": {},
   "outputs": [],
   "source": [
    "# Переходим от формата str к dict\n",
    "lst = []\n",
    "\n",
    "for string in text:\n",
    "    a=eval(string[:-2])\n",
    "    lst.append(a)"
   ]
  },
  {
   "cell_type": "code",
   "execution_count": 143,
   "metadata": {},
   "outputs": [],
   "source": [
    "# убираем из текста \\\\xa0 и теги html\n",
    "\n",
    "for topic in range(len(lst)):\n",
    "    for line in range(len(lst[topic]['article'])):\n",
    "        lst[topic]['article'][line] = lst[topic]['article'][line].replace(u'\\xa0', u' ')\n",
    "        lst[topic]['article'][line] = re.sub('<[^<]+?>', '', lst[topic]['article'][line])"
   ]
  },
  {
   "cell_type": "code",
   "execution_count": 144,
   "metadata": {},
   "outputs": [
    {
     "data": {
      "text/plain": [
       "['«АвтоВАЗ» в апреле продал в общей сложности 10055 автомобилей, сообщила пресс-служба автоконцерна. Самой популярной была Granta с результатом 3058 автомобилей, на втором месте Vesta — 2913 проданных автомобилей, на третьем — Largus — 1286 автомобилей.',\n",
       " 'По сравнению с апрелем 2019 года, сообщает ТАСС, продажи «АвтоВАЗа» упали более чем в 3 раза. В прошлом году автоконцерн продал в апреле 32,3 тысячи автомобилей.']"
      ]
     },
     "execution_count": 144,
     "metadata": {},
     "output_type": "execute_result"
    }
   ],
   "source": [
    "lst[0]['article']"
   ]
  },
  {
   "cell_type": "code",
   "execution_count": 145,
   "metadata": {},
   "outputs": [],
   "source": [
    "# обработка текста"
   ]
  },
  {
   "cell_type": "code",
   "execution_count": 146,
   "metadata": {},
   "outputs": [],
   "source": [
    "# переносим все статьи('article') в отдельный список, для дальнейшей обработки\n",
    "data = []\n",
    "\n",
    "for topic in range(len(lst)):\n",
    "    text = str()\n",
    "    for sentence in lst[topic]['article']:\n",
    "        text += sentence + ' '\n",
    "    data.append(text)"
   ]
  },
  {
   "cell_type": "code",
   "execution_count": 147,
   "metadata": {},
   "outputs": [
    {
     "name": "stdout",
     "output_type": "stream",
     "text": [
      "['автоваз', 'в', 'апреле', 'продал', 'в', 'общей', 'сложности', 'автомобилей', 'сообщила', 'пресс', 'служба', 'автоконцерна', 'самой', 'популярной', 'была', 'granta', 'с', 'результатом', 'автомобилей', 'на', 'втором', 'месте', 'vesta', 'проданных', 'автомобилей', 'на', 'третьем', 'largus', 'автомобилей', 'по', 'сравнению', 'с', 'апрелем', 'года', 'сообщает', 'тасс', 'продажи', 'автоваза', 'упали', 'более', 'чем', 'в', 'раза', 'в', 'прошлом', 'году', 'автоконцерн', 'продал', 'в', 'апреле', 'тысячи', 'автомобилей']\n"
     ]
    }
   ],
   "source": [
    "# приводим текст к нижнему регистру\n",
    "data = [line.lower() for line in data]\n",
    "\n",
    "# удаляем знаки пунктуации\n",
    "data = [re.sub(r'[^\\w\\s]',' ',line,flags=re.UNICODE) for line in data]\n",
    "\n",
    "# удаляем знаки цифры\n",
    "data = [re.sub(r'[\\d]',' ',line,flags=re.UNICODE) for line in data]\n",
    "\n",
    "# токенизация текстов\n",
    "tokenized_data = [nltk.word_tokenize(line) for line in data]\n",
    "\n",
    "print(tokenized_data[0])"
   ]
  },
  {
   "cell_type": "code",
   "execution_count": 148,
   "metadata": {},
   "outputs": [
    {
     "name": "stdout",
     "output_type": "stream",
     "text": [
      "['автоваз', 'апреле', 'продал', 'общей', 'сложности', 'автомобилей', 'сообщила', 'пресс', 'служба', 'автоконцерна', 'самой', 'популярной', 'granta', 'результатом', 'автомобилей', 'втором', 'месте', 'vesta', 'проданных', 'автомобилей', 'третьем', 'largus', 'автомобилей', 'сравнению', 'апрелем', 'года', 'сообщает', 'тасс', 'продажи', 'автоваза', 'упали', 'раза', 'прошлом', 'году', 'автоконцерн', 'продал', 'апреле', 'тысячи', 'автомобилей']\n"
     ]
    }
   ],
   "source": [
    "# уберем \"стоп-слова\", т.е. наиболее часто используемые слова не несущие смысловой нагрузки ('и','чуть' и пр.) \n",
    "\n",
    "stop_words = stopwords.words(\"russian\")\n",
    "\n",
    "def lineWithoutStopWords(line):\n",
    "    return [word for word in line if word not in stop_words]\n",
    "\n",
    "withoutStopWords = [lineWithoutStopWords(line) for line in tokenized_data]\n",
    "print(withoutStopWords[0])"
   ]
  },
  {
   "cell_type": "code",
   "execution_count": 135,
   "metadata": {},
   "outputs": [
    {
     "name": "stdout",
     "output_type": "stream",
     "text": [
      "0\n",
      "1\n",
      "2\n",
      "3\n",
      "4\n",
      "5\n",
      "6\n",
      "7\n"
     ]
    }
   ],
   "source": [
    "# Лемматизация \n",
    "\n",
    "mystem = Mystem()\n",
    "lemma_lst =[]\n",
    "\n",
    "for topic in range(len(withoutStopWords)):\n",
    "    text = str()\n",
    "    for word in withoutStopWords[topic]:\n",
    "        text += mystem.lemmatize(word)[0] + ' '\n",
    "    lemma_lst.append(text)\n",
    "    print(topic)"
   ]
  },
  {
   "cell_type": "code",
   "execution_count": 149,
   "metadata": {},
   "outputs": [
    {
     "name": "stdout",
     "output_type": "stream",
     "text": [
      "автоваз апрель продавать общий сложность автомобиль сообщать пресс служба автоконцерн самый популярный granta результат автомобиль второй место vesta продавать автомобиль третий largus автомобиль сравнение апрель год сообщать тасс продажа автоваз упасть раз прошлое год автоконцерн продавать апрель тысяча автомобиль \n"
     ]
    }
   ],
   "source": [
    "print(lemma_lst[0])"
   ]
  },
  {
   "cell_type": "code",
   "execution_count": 137,
   "metadata": {},
   "outputs": [],
   "source": [
    "# подготовим данные для TfidfVectorizer, чтобы вычислить TF-IDF\n",
    "\n",
    "to_Vectorize = []\n",
    "\n",
    "for topic in lemma_lst:\n",
    "    tmp=[]\n",
    "    tmp.append(topic)\n",
    "    to_Vectorize.append(tmp)"
   ]
  },
  {
   "cell_type": "code",
   "execution_count": 138,
   "metadata": {},
   "outputs": [],
   "source": [
    "tfidf_vectorizer = TfidfVectorizer()\n",
    "\n",
    "def tfidf_values(vect):\n",
    "    values=tfidf_vectorizer.fit_transform(vect)\n",
    "    feature_names = tfidf_vectorizer.get_feature_names()\n",
    "    return pd.DataFrame(values.toarray(), columns = feature_names)"
   ]
  },
  {
   "cell_type": "code",
   "execution_count": 139,
   "metadata": {},
   "outputs": [],
   "source": [
    "# TF-IDF\n",
    "Vectors_lst=[]\n",
    "for i in range(len(to_Vectorize)):\n",
    "    Vectors_lst.append(tfidf_values(to_Vectorize[i]))"
   ]
  },
  {
   "cell_type": "code",
   "execution_count": 140,
   "metadata": {},
   "outputs": [
    {
     "data": {
      "text/html": [
       "<div>\n",
       "<style scoped>\n",
       "    .dataframe tbody tr th:only-of-type {\n",
       "        vertical-align: middle;\n",
       "    }\n",
       "\n",
       "    .dataframe tbody tr th {\n",
       "        vertical-align: top;\n",
       "    }\n",
       "\n",
       "    .dataframe thead th {\n",
       "        text-align: right;\n",
       "    }\n",
       "</style>\n",
       "<table border=\"1\" class=\"dataframe\">\n",
       "  <thead>\n",
       "    <tr style=\"text-align: right;\">\n",
       "      <th></th>\n",
       "      <th>granta</th>\n",
       "      <th>largus</th>\n",
       "      <th>vesta</th>\n",
       "      <th>автоваз</th>\n",
       "      <th>автоконцерн</th>\n",
       "      <th>автомобиль</th>\n",
       "      <th>апрель</th>\n",
       "      <th>второй</th>\n",
       "      <th>год</th>\n",
       "      <th>место</th>\n",
       "      <th>...</th>\n",
       "      <th>результат</th>\n",
       "      <th>самый</th>\n",
       "      <th>сложность</th>\n",
       "      <th>служба</th>\n",
       "      <th>сообщать</th>\n",
       "      <th>сравнение</th>\n",
       "      <th>тасс</th>\n",
       "      <th>третий</th>\n",
       "      <th>тысяча</th>\n",
       "      <th>упасть</th>\n",
       "    </tr>\n",
       "  </thead>\n",
       "  <tbody>\n",
       "    <tr>\n",
       "      <td>0</td>\n",
       "      <td>0.112509</td>\n",
       "      <td>0.112509</td>\n",
       "      <td>0.112509</td>\n",
       "      <td>0.225018</td>\n",
       "      <td>0.225018</td>\n",
       "      <td>0.562544</td>\n",
       "      <td>0.337526</td>\n",
       "      <td>0.112509</td>\n",
       "      <td>0.225018</td>\n",
       "      <td>0.112509</td>\n",
       "      <td>...</td>\n",
       "      <td>0.112509</td>\n",
       "      <td>0.112509</td>\n",
       "      <td>0.112509</td>\n",
       "      <td>0.112509</td>\n",
       "      <td>0.225018</td>\n",
       "      <td>0.112509</td>\n",
       "      <td>0.112509</td>\n",
       "      <td>0.112509</td>\n",
       "      <td>0.112509</td>\n",
       "      <td>0.112509</td>\n",
       "    </tr>\n",
       "  </tbody>\n",
       "</table>\n",
       "<p>1 rows × 27 columns</p>\n",
       "</div>"
      ],
      "text/plain": [
       "     granta    largus     vesta   автоваз  автоконцерн  автомобиль    апрель  \\\n",
       "0  0.112509  0.112509  0.112509  0.225018     0.225018    0.562544  0.337526   \n",
       "\n",
       "     второй       год     место  ...  результат     самый  сложность  \\\n",
       "0  0.112509  0.225018  0.112509  ...   0.112509  0.112509   0.112509   \n",
       "\n",
       "     служба  сообщать  сравнение      тасс    третий    тысяча    упасть  \n",
       "0  0.112509  0.225018   0.112509  0.112509  0.112509  0.112509  0.112509  \n",
       "\n",
       "[1 rows x 27 columns]"
      ]
     },
     "execution_count": 140,
     "metadata": {},
     "output_type": "execute_result"
    }
   ],
   "source": [
    "Vectors_lst[0]"
   ]
  },
  {
   "cell_type": "code",
   "execution_count": null,
   "metadata": {},
   "outputs": [],
   "source": []
  },
  {
   "cell_type": "code",
   "execution_count": null,
   "metadata": {},
   "outputs": [],
   "source": []
  }
 ],
 "metadata": {
  "kernelspec": {
   "display_name": "Python 3",
   "language": "python",
   "name": "python3"
  },
  "language_info": {
   "codemirror_mode": {
    "name": "ipython",
    "version": 3
   },
   "file_extension": ".py",
   "mimetype": "text/x-python",
   "name": "python",
   "nbconvert_exporter": "python",
   "pygments_lexer": "ipython3",
   "version": "3.7.4"
  }
 },
 "nbformat": 4,
 "nbformat_minor": 4
}
